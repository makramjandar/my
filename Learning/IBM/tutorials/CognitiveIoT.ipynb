{
 "cells": [
  {
   "cell_type": "code",
   "execution_count": 1,
   "metadata": {},
   "outputs": [
    {
     "name": "stdout",
     "output_type": "stream",
     "text": [
      "Waiting for a Spark session to start...\n",
      "Spark Initialization Done! ApplicationId = app-20191223150628-0001\n",
      "KERNEL_ID = 3762eff8-ac0d-4656-a052-4eb69aaf1279\n",
      "Pixiedust database opened successfully\n"
     ]
    },
    {
     "data": {
      "text/html": [
       "\n",
       "        <div style=\"margin:10px\">\n",
       "            <a href=\"https://github.com/ibm-watson-data-lab/pixiedust\" target=\"_new\">\n",
       "                <img src=\"https://github.com/ibm-watson-data-lab/pixiedust/raw/master/docs/_static/pd_icon32.png\" style=\"float:left;margin-right:10px\"/>\n",
       "            </a>\n",
       "            <span>Pixiedust version 1.1.16</span>\n",
       "        </div>\n",
       "        "
      ],
      "text/plain": [
       "<IPython.core.display.HTML object>"
      ]
     },
     "metadata": {},
     "output_type": "display_data"
    },
    {
     "data": {
      "text/html": [
       "<div>Warning: You are not running the latest version of PixieDust. Current is 1.1.16, Latest is 1.1.18</div>"
      ],
      "text/plain": [
       "<IPython.core.display.HTML object>"
      ]
     },
     "metadata": {},
     "output_type": "display_data"
    },
    {
     "data": {
      "text/html": [
       "\n",
       "                <div>Please copy and run the following command in a new cell to upgrade: <span style=\"background-color:#ececec;font-family:monospace;padding:0 5px\">!pip install --user --upgrade pixiedust</span></div>\n",
       "            "
      ],
      "text/plain": [
       "<IPython.core.display.HTML object>"
      ]
     },
     "metadata": {},
     "output_type": "display_data"
    },
    {
     "data": {
      "text/html": [
       "<div>Please restart kernel after upgrading.</div>"
      ],
      "text/plain": [
       "<IPython.core.display.HTML object>"
      ]
     },
     "metadata": {},
     "output_type": "display_data"
    },
    {
     "name": "stdout",
     "output_type": "stream",
     "text": [
      "Downloading package org.apache.bahir:spark-sql-cloudant_2.11:2.4.0 to /home/spark/shared/user-libs/spark2/spark-sql-cloudant_2.11-2.4.0.jar\n"
     ]
    },
    {
     "data": {
      "text/html": [
       "\n",
       "                <div>\n",
       "                    <span id=\"pm_label7b8fc5c5\">Starting download...</span>\n",
       "                    <progress id=\"pm_progress7b8fc5c5\" max=\"100\" value=\"0\" style=\"width:200px\"></progress>\n",
       "                </div>"
      ],
      "text/plain": [
       "<IPython.core.display.HTML object>"
      ]
     },
     "metadata": {},
     "output_type": "display_data"
    },
    {
     "data": {
      "application/javascript": [
       "\n",
       "                    $(\"#pm_label7b8fc5c5\").text(\"Downloaded 8192 of 143889 bytes\");\n",
       "                    $(\"#pm_progress7b8fc5c5\").attr(\"value\", 5.69);\n",
       "                "
      ],
      "text/plain": [
       "<IPython.core.display.Javascript object>"
      ]
     },
     "metadata": {},
     "output_type": "display_data"
    },
    {
     "data": {
      "application/javascript": [
       "\n",
       "                    $(\"#pm_label7b8fc5c5\").text(\"Downloaded 16384 of 143889 bytes\");\n",
       "                    $(\"#pm_progress7b8fc5c5\").attr(\"value\", 11.39);\n",
       "                "
      ],
      "text/plain": [
       "<IPython.core.display.Javascript object>"
      ]
     },
     "metadata": {},
     "output_type": "display_data"
    },
    {
     "data": {
      "application/javascript": [
       "\n",
       "                    $(\"#pm_label7b8fc5c5\").text(\"Downloaded 24576 of 143889 bytes\");\n",
       "                    $(\"#pm_progress7b8fc5c5\").attr(\"value\", 17.08);\n",
       "                "
      ],
      "text/plain": [
       "<IPython.core.display.Javascript object>"
      ]
     },
     "metadata": {},
     "output_type": "display_data"
    },
    {
     "data": {
      "application/javascript": [
       "\n",
       "                    $(\"#pm_label7b8fc5c5\").text(\"Downloaded 32768 of 143889 bytes\");\n",
       "                    $(\"#pm_progress7b8fc5c5\").attr(\"value\", 22.77);\n",
       "                "
      ],
      "text/plain": [
       "<IPython.core.display.Javascript object>"
      ]
     },
     "metadata": {},
     "output_type": "display_data"
    },
    {
     "data": {
      "application/javascript": [
       "\n",
       "                    $(\"#pm_label7b8fc5c5\").text(\"Downloaded 40960 of 143889 bytes\");\n",
       "                    $(\"#pm_progress7b8fc5c5\").attr(\"value\", 28.47);\n",
       "                "
      ],
      "text/plain": [
       "<IPython.core.display.Javascript object>"
      ]
     },
     "metadata": {},
     "output_type": "display_data"
    },
    {
     "data": {
      "application/javascript": [
       "\n",
       "                    $(\"#pm_label7b8fc5c5\").text(\"Downloaded 49152 of 143889 bytes\");\n",
       "                    $(\"#pm_progress7b8fc5c5\").attr(\"value\", 34.16);\n",
       "                "
      ],
      "text/plain": [
       "<IPython.core.display.Javascript object>"
      ]
     },
     "metadata": {},
     "output_type": "display_data"
    },
    {
     "data": {
      "application/javascript": [
       "\n",
       "                    $(\"#pm_label7b8fc5c5\").text(\"Downloaded 57344 of 143889 bytes\");\n",
       "                    $(\"#pm_progress7b8fc5c5\").attr(\"value\", 39.85);\n",
       "                "
      ],
      "text/plain": [
       "<IPython.core.display.Javascript object>"
      ]
     },
     "metadata": {},
     "output_type": "display_data"
    },
    {
     "data": {
      "application/javascript": [
       "\n",
       "                    $(\"#pm_label7b8fc5c5\").text(\"Downloaded 65536 of 143889 bytes\");\n",
       "                    $(\"#pm_progress7b8fc5c5\").attr(\"value\", 45.55);\n",
       "                "
      ],
      "text/plain": [
       "<IPython.core.display.Javascript object>"
      ]
     },
     "metadata": {},
     "output_type": "display_data"
    },
    {
     "data": {
      "application/javascript": [
       "\n",
       "                    $(\"#pm_label7b8fc5c5\").text(\"Downloaded 73728 of 143889 bytes\");\n",
       "                    $(\"#pm_progress7b8fc5c5\").attr(\"value\", 51.24);\n",
       "                "
      ],
      "text/plain": [
       "<IPython.core.display.Javascript object>"
      ]
     },
     "metadata": {},
     "output_type": "display_data"
    },
    {
     "data": {
      "application/javascript": [
       "\n",
       "                    $(\"#pm_label7b8fc5c5\").text(\"Downloaded 81920 of 143889 bytes\");\n",
       "                    $(\"#pm_progress7b8fc5c5\").attr(\"value\", 56.93);\n",
       "                "
      ],
      "text/plain": [
       "<IPython.core.display.Javascript object>"
      ]
     },
     "metadata": {},
     "output_type": "display_data"
    },
    {
     "data": {
      "application/javascript": [
       "\n",
       "                    $(\"#pm_label7b8fc5c5\").text(\"Downloaded 90112 of 143889 bytes\");\n",
       "                    $(\"#pm_progress7b8fc5c5\").attr(\"value\", 62.63);\n",
       "                "
      ],
      "text/plain": [
       "<IPython.core.display.Javascript object>"
      ]
     },
     "metadata": {},
     "output_type": "display_data"
    },
    {
     "data": {
      "application/javascript": [
       "\n",
       "                    $(\"#pm_label7b8fc5c5\").text(\"Downloaded 98304 of 143889 bytes\");\n",
       "                    $(\"#pm_progress7b8fc5c5\").attr(\"value\", 68.32);\n",
       "                "
      ],
      "text/plain": [
       "<IPython.core.display.Javascript object>"
      ]
     },
     "metadata": {},
     "output_type": "display_data"
    },
    {
     "data": {
      "application/javascript": [
       "\n",
       "                    $(\"#pm_label7b8fc5c5\").text(\"Downloaded 106496 of 143889 bytes\");\n",
       "                    $(\"#pm_progress7b8fc5c5\").attr(\"value\", 74.01);\n",
       "                "
      ],
      "text/plain": [
       "<IPython.core.display.Javascript object>"
      ]
     },
     "metadata": {},
     "output_type": "display_data"
    },
    {
     "data": {
      "application/javascript": [
       "\n",
       "                    $(\"#pm_label7b8fc5c5\").text(\"Downloaded 114688 of 143889 bytes\");\n",
       "                    $(\"#pm_progress7b8fc5c5\").attr(\"value\", 79.71);\n",
       "                "
      ],
      "text/plain": [
       "<IPython.core.display.Javascript object>"
      ]
     },
     "metadata": {},
     "output_type": "display_data"
    },
    {
     "data": {
      "application/javascript": [
       "\n",
       "                    $(\"#pm_label7b8fc5c5\").text(\"Downloaded 122880 of 143889 bytes\");\n",
       "                    $(\"#pm_progress7b8fc5c5\").attr(\"value\", 85.4);\n",
       "                "
      ],
      "text/plain": [
       "<IPython.core.display.Javascript object>"
      ]
     },
     "metadata": {},
     "output_type": "display_data"
    },
    {
     "data": {
      "application/javascript": [
       "\n",
       "                    $(\"#pm_label7b8fc5c5\").text(\"Downloaded 131072 of 143889 bytes\");\n",
       "                    $(\"#pm_progress7b8fc5c5\").attr(\"value\", 91.09);\n",
       "                "
      ],
      "text/plain": [
       "<IPython.core.display.Javascript object>"
      ]
     },
     "metadata": {},
     "output_type": "display_data"
    },
    {
     "data": {
      "application/javascript": [
       "\n",
       "                    $(\"#pm_label7b8fc5c5\").text(\"Downloaded 139264 of 143889 bytes\");\n",
       "                    $(\"#pm_progress7b8fc5c5\").attr(\"value\", 96.79);\n",
       "                "
      ],
      "text/plain": [
       "<IPython.core.display.Javascript object>"
      ]
     },
     "metadata": {},
     "output_type": "display_data"
    },
    {
     "data": {
      "application/javascript": [
       "\n",
       "                    $(\"#pm_label7b8fc5c5\").text(\"Downloaded 143889 of 143889 bytes\");\n",
       "                    $(\"#pm_progress7b8fc5c5\").attr(\"value\", 100.0);\n",
       "                "
      ],
      "text/plain": [
       "<IPython.core.display.Javascript object>"
      ]
     },
     "metadata": {},
     "output_type": "display_data"
    },
    {
     "name": "stdout",
     "output_type": "stream",
     "text": [
      "Package org.apache.bahir:spark-sql-cloudant_2.11:2.4.0 downloaded successfully\n",
      "\u001b[31mPlease restart Kernel to complete installation of the new package\u001b[0m\n",
      "Successfully added package org.apache.bahir:spark-sql-cloudant_2.11:2.4.0\n"
     ]
    }
   ],
   "source": [
    "import pixiedust\n",
    "from pyspark.sql import SparkSession\n",
    "\n",
    "pixiedust.installPackage(\"org.apache.bahir:spark-sql-cloudant_2.11:0\")\n",
    "spark = SparkSession.builder.getOrCreate()"
   ]
  },
  {
   "cell_type": "code",
   "execution_count": 2,
   "metadata": {},
   "outputs": [],
   "source": [
    "#!pip install --user --upgrade pixiedust"
   ]
  },
  {
   "cell_type": "code",
   "execution_count": 3,
   "metadata": {},
   "outputs": [],
   "source": [
    "def readDataFrameFromCloudant(host,user,pw,database):\n",
    "\n",
    "    cloudantdata=spark.read.format(\"org.apache.bahir.cloudant\"). \\\n",
    "    option(\"cloudant.host\",host). \\\n",
    "    option(\"cloudant.username\", user). \\\n",
    "    option(\"cloudant.password\", pw). \\\n",
    "    load(database)\n",
    "\n",
    "    cloudantdata.createOrReplaceTempView(\"washing\")\n",
    "    #spark.sql(\"SELECT * from washing\").show()\n",
    "    return cloudantdata"
   ]
  },
  {
   "cell_type": "code",
   "execution_count": 4,
   "metadata": {},
   "outputs": [],
   "source": [
    "#TODO Please provide your Cloudant credentials here\n",
    "hostname = \"\"\n",
    "user = \"\"\n",
    "pw = \"\"\n",
    "database = \"washing\" #as long as you didn't change this in the NodeRED flow the database name stays the same\n",
    "cloudantdata=readDataFrameFromCloudant(hostname, user, pw, database)"
   ]
  },
  {
   "cell_type": "code",
   "execution_count": 6,
   "metadata": {},
   "outputs": [
    {
     "name": "stdout",
     "output_type": "stream",
     "text": [
      "+--------------------+--------------------+-----+--------+----------+---------+--------+-----+-----------+-------------+-------+\n",
      "|                 _id|                _rev|count|flowrate|fluidlevel|frequency|hardness|speed|temperature|           ts|voltage|\n",
      "+--------------------+--------------------+-----+--------+----------+---------+--------+-----+-----------+-------------+-------+\n",
      "|19cb0e12be2e77bcd...|1-b03781e80c30e6a...|    1|    null|      null|       77|    null| null|       null|1577112519529|    229|\n",
      "|19cb0e12be2e77bcd...|1-ae84016fd49cd0b...|   14|      11|acceptable|     null|      70| null|         82|1577112530595|   null|\n",
      "|19cb0e12be2e77bcd...|1-cde95532a0ebd26...|   18|      11|acceptable|     null|      77| null|         94|1577112534612|   null|\n",
      "|19cb0e12be2e77bcd...|1-2ca2f9b93ff8a46...|   21|      11|acceptable|     null|      75| null|         88|1577112537631|   null|\n",
      "|19cb0e12be2e77bcd...|1-8559ea7c1f87a14...|    8|    null|      null|       64|    null| null|       null|1577112540541|    236|\n",
      "|19cb0e12be2e77bcd...|1-82d3bb48e9fb20d...|    6|      11|acceptable|     null|      76| null|         84|1577112571382|   null|\n",
      "|19cb0e12be2e77bcd...|1-28e51ee467aa2e8...|    2|    null|      null|     null|    null| 1038|       null|1577112575366|   null|\n",
      "|19cb0e12be2e77bcd...|1-322bbd22dedb7a8...|   11|      11|acceptable|     null|      73| null|        100|1577112576390|   null|\n",
      "|19cb0e12be2e77bcd...|1-ced5271813085d9...|   17|      11|acceptable|     null|      73| null|         94|1577112582400|   null|\n",
      "|19cb0e12be2e77bcd...|1-f71bdc1f16ca9ca...|    9|    null|      null|       68|    null| null|       null|1577112592390|    235|\n",
      "|19cb0e12be2e77bcd...|1-9349cf45ae0b098...|   38|      11|acceptable|     null|      76| null|         90|1577112603608|   null|\n",
      "|19cb0e12be2e77bcd...|1-7b3a6a572ce871b...|   44|      11|acceptable|     null|      70| null|         84|1577112609611|   null|\n",
      "|19cb0e12be2e77bcd...|1-cbb548dcaed8153...|   15|    null|      null|       71|    null| null|       null|1577112610398|    226|\n",
      "|19cb0e12be2e77bcd...|1-1a5408893856a1a...|   49|      11|acceptable|     null|      78| null|         81|1577112614768|   null|\n",
      "|19cb0e12be2e77bcd...|1-3bbd82d40c826f6...|   51|      11|acceptable|     null|      76| null|         83|1577112616629|   null|\n",
      "|19cb0e12be2e77bcd...|1-2799980708a82eb...|   23|    null|      null|       60|    null| null|       null|1577112634410|    239|\n",
      "|19cb0e12be2e77bcd...|1-fc919d4e7f57f60...|   14|    null|      null|     null|    null| 1032|       null|1577112635422|   null|\n",
      "|19cb0e12be2e77bcd...|1-7d91f65c7ca0241...|   94|      11|acceptable|     null|      74| null|         91|1577112659747|   null|\n",
      "|19cb0e12be2e77bcd...|1-60328a8d8e7a3c0...|   96|      11|acceptable|     null|      78| null|         85|1577112661754|   null|\n",
      "|19cb0e12be2e77bcd...|1-5d260cbc0f77d91...|   34|    null|      null|       60|    null| null|       null|1577112667450|    227|\n",
      "+--------------------+--------------------+-----+--------+----------+---------+--------+-----+-----------+-------------+-------+\n",
      "only showing top 20 rows\n",
      "\n"
     ]
    }
   ],
   "source": [
    "# You should see some data coming from the database\n",
    "spark.sql(\"select * from washing\").show()\n",
    "# spark.sql(\"select avg(voltage), std(voltage), max(voltage) from washing\").show()"
   ]
  },
  {
   "cell_type": "code",
   "execution_count": 7,
   "metadata": {},
   "outputs": [
    {
     "name": "stdout",
     "output_type": "stream",
     "text": [
      "+------------+\n",
      "|   avgzscore|\n",
      "+------------+\n",
      "|0.9880080000|\n",
      "+------------+\n",
      "\n"
     ]
    }
   ],
   "source": [
    "df = spark.sql(\"\"\"\n",
    "select mean(voltage) as mean, std(voltage) as std from (\n",
    "    SELECT ROW_NUMBER() OVER (ORDER BY ts desc) AS row, * FROM washing where voltage is not null\n",
    ") where\n",
    "row < 30\n",
    "\"\"\")\n",
    "               \n",
    "#df.show()\n",
    "mean = df.first().mean\n",
    "std = df.first().std\n",
    "#spark.sql(\"SELECT * from (select abs( ({0}-voltage)/({1}+0.0001) ) as zscore, voltage,ROW_NUMBER() OVER (ORDER BY ts desc) AS row FROM washing where voltage is not null order by ts desc) where row < 20\".format(mean,std)).show()\n",
    "df = spark.sql(\"SELECT mean(zscore) as avgzscore from (select abs( ({0}-voltage)/({1}+0.0001) ) as zscore, voltage,ROW_NUMBER() OVER (ORDER BY ts desc) AS row FROM washing where voltage is not null order by ts desc) where row < 20\".format(mean,std))\n",
    "df.show()"
   ]
  },
  {
   "cell_type": "code",
   "execution_count": 8,
   "metadata": {},
   "outputs": [],
   "source": [
    "zscore = df.first().avgzscore"
   ]
  },
  {
   "cell_type": "code",
   "execution_count": 9,
   "metadata": {},
   "outputs": [],
   "source": [
    "import requests\n",
    "if (zscore > 0.5):\n",
    "    r = requests.get(\"https://1234thisismyname.mybluemix.net/edgemodelupdate?command=emergencyshutdown\")\n",
    "    r.status_code"
   ]
  }
 ],
 "metadata": {
  "kernelspec": {
   "display_name": "Python 3.6 with Spark",
   "language": "python3",
   "name": "python36"
  },
  "language_info": {
   "codemirror_mode": {
    "name": "ipython",
    "version": 3
   },
   "file_extension": ".py",
   "mimetype": "text/x-python",
   "name": "python",
   "nbconvert_exporter": "python",
   "pygments_lexer": "ipython3",
   "version": "3.6.8"
  }
 },
 "nbformat": 4,
 "nbformat_minor": 1
}
